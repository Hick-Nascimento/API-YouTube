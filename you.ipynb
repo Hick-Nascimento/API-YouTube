{
 "cells": [
  {
   "cell_type": "code",
   "execution_count": 1,
   "metadata": {},
   "outputs": [],
   "source": [
    "from key import api_key\n",
    "import requests, pandas_gbq, json\n",
    "import pandas as pd\n",
    "import cutecharts.charts as ctc"
   ]
  },
  {
   "cell_type": "code",
   "execution_count": 2,
   "metadata": {},
   "outputs": [],
   "source": [
    "def you_tube():\n",
    "    url = \"https://youtube.googleapis.com/youtube/v3/playlists?part=snippet&id=PLI_JLekVwq0N7XehE_-nZGf8XUPOsDrJQ&maxResults=25&key={api_key}\"\n",
    "\n",
    "    payload={}\n",
    "    headers = {}\n",
    "\n",
    "    response = requests.get(url, headers=headers, data=payload)\n",
    "    res = response.text\n",
    "    res = json.loads(res)\n",
    "\n",
    "    return res\n"
   ]
  },
  {
   "cell_type": "code",
   "execution_count": 3,
   "metadata": {},
   "outputs": [],
   "source": [
    "# Transformando a função em variavel \n",
    "total_values = you_tube()['items']"
   ]
  },
  {
   "cell_type": "code",
   "execution_count": 4,
   "metadata": {},
   "outputs": [],
   "source": [
    "# Selecionando nivel do Json\n",
    "f_values = total_values[0]['snippet']"
   ]
  },
  {
   "cell_type": "code",
   "execution_count": 5,
   "metadata": {},
   "outputs": [],
   "source": [
    "# Modificando ordem das colunas\n",
    "ndf = ['publishedAt', 'title','channelTitle','channelId','localized','description','thumbnails','localized']"
   ]
  },
  {
   "cell_type": "code",
   "execution_count": 6,
   "metadata": {},
   "outputs": [],
   "source": [
    "# Transformando em DataFrame\n",
    "def_values = pd.DataFrame(data=f_values, columns=ndf)"
   ]
  },
  {
   "cell_type": "code",
   "execution_count": 7,
   "metadata": {},
   "outputs": [
    {
     "data": {
      "text/html": [
       "<div>\n",
       "<style scoped>\n",
       "    .dataframe tbody tr th:only-of-type {\n",
       "        vertical-align: middle;\n",
       "    }\n",
       "\n",
       "    .dataframe tbody tr th {\n",
       "        vertical-align: top;\n",
       "    }\n",
       "\n",
       "    .dataframe thead th {\n",
       "        text-align: right;\n",
       "    }\n",
       "</style>\n",
       "<table border=\"1\" class=\"dataframe\">\n",
       "  <thead>\n",
       "    <tr style=\"text-align: right;\">\n",
       "      <th></th>\n",
       "      <th>publishedAt</th>\n",
       "      <th>title</th>\n",
       "      <th>channelTitle</th>\n",
       "      <th>channelId</th>\n",
       "      <th>localized</th>\n",
       "      <th>description</th>\n",
       "      <th>thumbnails</th>\n",
       "      <th>localized</th>\n",
       "    </tr>\n",
       "  </thead>\n",
       "  <tbody>\n",
       "    <tr>\n",
       "      <th>title</th>\n",
       "      <td>2018-05-24T16:53:35Z</td>\n",
       "      <td>God of War</td>\n",
       "      <td>alanzoka</td>\n",
       "      <td>UCIwspRtKNszHhIhl36gREjQ</td>\n",
       "      <td>God of War</td>\n",
       "      <td></td>\n",
       "      <td>NaN</td>\n",
       "      <td>God of War</td>\n",
       "    </tr>\n",
       "    <tr>\n",
       "      <th>description</th>\n",
       "      <td>2018-05-24T16:53:35Z</td>\n",
       "      <td>God of War</td>\n",
       "      <td>alanzoka</td>\n",
       "      <td>UCIwspRtKNszHhIhl36gREjQ</td>\n",
       "      <td></td>\n",
       "      <td></td>\n",
       "      <td>NaN</td>\n",
       "      <td></td>\n",
       "    </tr>\n",
       "    <tr>\n",
       "      <th>default</th>\n",
       "      <td>2018-05-24T16:53:35Z</td>\n",
       "      <td>God of War</td>\n",
       "      <td>alanzoka</td>\n",
       "      <td>UCIwspRtKNszHhIhl36gREjQ</td>\n",
       "      <td>NaN</td>\n",
       "      <td></td>\n",
       "      <td>{'url': 'https://i.ytimg.com/vi/2qVmxM6b784/de...</td>\n",
       "      <td>NaN</td>\n",
       "    </tr>\n",
       "    <tr>\n",
       "      <th>medium</th>\n",
       "      <td>2018-05-24T16:53:35Z</td>\n",
       "      <td>God of War</td>\n",
       "      <td>alanzoka</td>\n",
       "      <td>UCIwspRtKNszHhIhl36gREjQ</td>\n",
       "      <td>NaN</td>\n",
       "      <td></td>\n",
       "      <td>{'url': 'https://i.ytimg.com/vi/2qVmxM6b784/mq...</td>\n",
       "      <td>NaN</td>\n",
       "    </tr>\n",
       "    <tr>\n",
       "      <th>high</th>\n",
       "      <td>2018-05-24T16:53:35Z</td>\n",
       "      <td>God of War</td>\n",
       "      <td>alanzoka</td>\n",
       "      <td>UCIwspRtKNszHhIhl36gREjQ</td>\n",
       "      <td>NaN</td>\n",
       "      <td></td>\n",
       "      <td>{'url': 'https://i.ytimg.com/vi/2qVmxM6b784/hq...</td>\n",
       "      <td>NaN</td>\n",
       "    </tr>\n",
       "    <tr>\n",
       "      <th>standard</th>\n",
       "      <td>2018-05-24T16:53:35Z</td>\n",
       "      <td>God of War</td>\n",
       "      <td>alanzoka</td>\n",
       "      <td>UCIwspRtKNszHhIhl36gREjQ</td>\n",
       "      <td>NaN</td>\n",
       "      <td></td>\n",
       "      <td>{'url': 'https://i.ytimg.com/vi/2qVmxM6b784/sd...</td>\n",
       "      <td>NaN</td>\n",
       "    </tr>\n",
       "    <tr>\n",
       "      <th>maxres</th>\n",
       "      <td>2018-05-24T16:53:35Z</td>\n",
       "      <td>God of War</td>\n",
       "      <td>alanzoka</td>\n",
       "      <td>UCIwspRtKNszHhIhl36gREjQ</td>\n",
       "      <td>NaN</td>\n",
       "      <td></td>\n",
       "      <td>{'url': 'https://i.ytimg.com/vi/2qVmxM6b784/ma...</td>\n",
       "      <td>NaN</td>\n",
       "    </tr>\n",
       "  </tbody>\n",
       "</table>\n",
       "</div>"
      ],
      "text/plain": [
       "                      publishedAt       title channelTitle  \\\n",
       "title        2018-05-24T16:53:35Z  God of War     alanzoka   \n",
       "description  2018-05-24T16:53:35Z  God of War     alanzoka   \n",
       "default      2018-05-24T16:53:35Z  God of War     alanzoka   \n",
       "medium       2018-05-24T16:53:35Z  God of War     alanzoka   \n",
       "high         2018-05-24T16:53:35Z  God of War     alanzoka   \n",
       "standard     2018-05-24T16:53:35Z  God of War     alanzoka   \n",
       "maxres       2018-05-24T16:53:35Z  God of War     alanzoka   \n",
       "\n",
       "                            channelId   localized description  \\\n",
       "title        UCIwspRtKNszHhIhl36gREjQ  God of War               \n",
       "description  UCIwspRtKNszHhIhl36gREjQ                           \n",
       "default      UCIwspRtKNszHhIhl36gREjQ         NaN               \n",
       "medium       UCIwspRtKNszHhIhl36gREjQ         NaN               \n",
       "high         UCIwspRtKNszHhIhl36gREjQ         NaN               \n",
       "standard     UCIwspRtKNszHhIhl36gREjQ         NaN               \n",
       "maxres       UCIwspRtKNszHhIhl36gREjQ         NaN               \n",
       "\n",
       "                                                    thumbnails   localized  \n",
       "title                                                      NaN  God of War  \n",
       "description                                                NaN              \n",
       "default      {'url': 'https://i.ytimg.com/vi/2qVmxM6b784/de...         NaN  \n",
       "medium       {'url': 'https://i.ytimg.com/vi/2qVmxM6b784/mq...         NaN  \n",
       "high         {'url': 'https://i.ytimg.com/vi/2qVmxM6b784/hq...         NaN  \n",
       "standard     {'url': 'https://i.ytimg.com/vi/2qVmxM6b784/sd...         NaN  \n",
       "maxres       {'url': 'https://i.ytimg.com/vi/2qVmxM6b784/ma...         NaN  "
      ]
     },
     "execution_count": 7,
     "metadata": {},
     "output_type": "execute_result"
    }
   ],
   "source": [
    "def_values"
   ]
  }
 ],
 "metadata": {
  "kernelspec": {
   "display_name": "Python 3.10.7 ('env-youtube': venv)",
   "language": "python",
   "name": "python3"
  },
  "language_info": {
   "codemirror_mode": {
    "name": "ipython",
    "version": 3
   },
   "file_extension": ".py",
   "mimetype": "text/x-python",
   "name": "python",
   "nbconvert_exporter": "python",
   "pygments_lexer": "ipython3",
   "version": "3.10.7"
  },
  "orig_nbformat": 4,
  "vscode": {
   "interpreter": {
    "hash": "93286436425c32c44b88cf1c8ad4c2869dce4085892f8615717aad3a0209702b"
   }
  }
 },
 "nbformat": 4,
 "nbformat_minor": 2
}
